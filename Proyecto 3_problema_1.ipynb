{
 "cells": [
  {
   "cell_type": "code",
   "execution_count": 8,
   "id": "2bccb810",
   "metadata": {},
   "outputs": [
    {
     "name": "stdout",
     "output_type": "stream",
     "text": [
      "../Proyecto_3/.DS_Store\n",
      "../Proyecto_3/Proyecto 3.ipynb\n",
      "../Proyecto_3/input/problem1.csv\n",
      "../Proyecto_3/.ipynb_checkpoints/Proyecto 3-checkpoint.ipynb\n"
     ]
    }
   ],
   "source": [
    "# Import Libraries\n",
    "import numpy as np \n",
    "import pandas as pd\n",
    "import seaborn as sn\n",
    "import matplotlib.pyplot as plt\n",
    "%matplotlib inline\n",
    "from scipy.stats import pearsonr\n",
    "import numpy.polynomial.polynomial as poly\n",
    "\n",
    "# Input data files are available in the read-only \"../input/\" directory\n",
    "# For example, running this (by clicking run or pressing Shift+Enter) will list all files under the input directory\n",
    "\n",
    "import os\n",
    "for dirname, _, filenames in os.walk('../Proyecto_3'):\n",
    "    for filename in filenames:\n",
    "        print(os.path.join(dirname, filename))\n"
   ]
  },
  {
   "cell_type": "code",
   "execution_count": 9,
   "id": "fa5f348e",
   "metadata": {},
   "outputs": [],
   "source": [
    "df = pd.read_csv(\"../Proyecto_3/input/problem1.csv\")"
   ]
  },
  {
   "cell_type": "code",
   "execution_count": 11,
   "id": "a19b29a1",
   "metadata": {},
   "outputs": [
    {
     "name": "stdout",
     "output_type": "stream",
     "text": [
      "Dimensiones:  (134, 4)\n"
     ]
    },
    {
     "data": {
      "text/html": [
       "<div>\n",
       "<style scoped>\n",
       "    .dataframe tbody tr th:only-of-type {\n",
       "        vertical-align: middle;\n",
       "    }\n",
       "\n",
       "    .dataframe tbody tr th {\n",
       "        vertical-align: top;\n",
       "    }\n",
       "\n",
       "    .dataframe thead th {\n",
       "        text-align: right;\n",
       "    }\n",
       "</style>\n",
       "<table border=\"1\" class=\"dataframe\">\n",
       "  <thead>\n",
       "    <tr style=\"text-align: right;\">\n",
       "      <th></th>\n",
       "      <th>X_training</th>\n",
       "      <th>Y_training</th>\n",
       "      <th>X_test</th>\n",
       "      <th>Y_test</th>\n",
       "    </tr>\n",
       "  </thead>\n",
       "  <tbody>\n",
       "    <tr>\n",
       "      <th>0</th>\n",
       "      <td>-2.00</td>\n",
       "      <td>22.067387</td>\n",
       "      <td>2.00</td>\n",
       "      <td>6.024049</td>\n",
       "    </tr>\n",
       "    <tr>\n",
       "      <th>1</th>\n",
       "      <td>-1.97</td>\n",
       "      <td>19.944915</td>\n",
       "      <td>2.05</td>\n",
       "      <td>6.885408</td>\n",
       "    </tr>\n",
       "    <tr>\n",
       "      <th>2</th>\n",
       "      <td>-1.94</td>\n",
       "      <td>18.062490</td>\n",
       "      <td>2.10</td>\n",
       "      <td>7.578968</td>\n",
       "    </tr>\n",
       "    <tr>\n",
       "      <th>3</th>\n",
       "      <td>-1.91</td>\n",
       "      <td>16.384313</td>\n",
       "      <td>2.15</td>\n",
       "      <td>8.439467</td>\n",
       "    </tr>\n",
       "    <tr>\n",
       "      <th>4</th>\n",
       "      <td>-1.88</td>\n",
       "      <td>14.567798</td>\n",
       "      <td>2.20</td>\n",
       "      <td>9.554611</td>\n",
       "    </tr>\n",
       "  </tbody>\n",
       "</table>\n",
       "</div>"
      ],
      "text/plain": [
       "   X_training  Y_training  X_test    Y_test\n",
       "0       -2.00   22.067387    2.00  6.024049\n",
       "1       -1.97   19.944915    2.05  6.885408\n",
       "2       -1.94   18.062490    2.10  7.578968\n",
       "3       -1.91   16.384313    2.15  8.439467\n",
       "4       -1.88   14.567798    2.20  9.554611"
      ]
     },
     "execution_count": 11,
     "metadata": {},
     "output_type": "execute_result"
    }
   ],
   "source": [
    "print(\"Dimensiones: \",df.shape)\n",
    "df.head()"
   ]
  },
  {
   "cell_type": "code",
   "execution_count": 14,
   "id": "abc2798d",
   "metadata": {},
   "outputs": [],
   "source": [
    "#Separamos los datos de acuerdo a que son.\n",
    "\n",
    "X_training = df.X_training\n",
    "Y_training = df.Y_training\n",
    "X_test = df.X_test.dropna()\n",
    "Y_test = df.Y_test.dropna()"
   ]
  },
  {
   "cell_type": "markdown",
   "id": "3947e13d",
   "metadata": {},
   "source": [
    "Calculamos el error cuadrático y vemos como se ajusta a las dos muestras: con la que entrenamos y con la que testeamos"
   ]
  },
  {
   "cell_type": "code",
   "execution_count": 58,
   "id": "a6f08f18",
   "metadata": {},
   "outputs": [],
   "source": [
    "def calcular_ajuste_cuadrado_del_grado(k):\n",
    "    model = poly.Polynomial(poly.polyfit(X_training, Y_training, k))\n",
    "    residuo_cuadratico_test = np.sum((Y_test-model(X_test))**2)\n",
    "    residuo_cuadratico = np.sum((Y_training-model(X_training))**2)\n",
    "    return [residuo_cuadratico,residuo_cuadratico_test]"
   ]
  },
  {
   "cell_type": "markdown",
   "id": "646c8e36",
   "metadata": {},
   "source": [
    "Calculamos hasta el polinomio de grado 133 porque sabemos que apartir de ese grado podemos interpolar los datos y da el traning perfecto"
   ]
  },
  {
   "cell_type": "code",
   "execution_count": 48,
   "id": "345dd08a",
   "metadata": {},
   "outputs": [
    {
     "name": "stderr",
     "output_type": "stream",
     "text": [
      "/Users/muon02/opt/anaconda3/lib/python3.8/site-packages/numpy/polynomial/polynomial.py:1361: RankWarning: The fit may be poorly conditioned\n",
      "  return pu._fit(polyvander, x, y, deg, rcond, full, w)\n"
     ]
    }
   ],
   "source": [
    "grados = np.arange(0,134,1)\n",
    "residuos = np.array([calcular_ajuste_cuadrado_del_grado(k) for k in grados])\n"
   ]
  },
  {
   "cell_type": "code",
   "execution_count": 154,
   "id": "e20ca635",
   "metadata": {},
   "outputs": [
    {
     "data": {
      "image/png": "[encoded data removed]",
      "text/plain": [
       "<Figure size 432x288 with 1 Axes>"
      ]
     },
     "metadata": {
      "needs_background": "light"
     },
     "output_type": "display_data"
    }
   ],
   "source": [
    "#Para residuos con el conjunto de entrenamiento\n",
    "plt.plot(grados[:],np.log(residuos[:,0]),'b--')\n",
    "plt.title(\"Fit to training set\")\n",
    "\n",
    "#Para residuos con el conjunto de prueba\n",
    "plt.plot(grados[:],np.log(residuos[:,1]),'b--')\n",
    "plt.title(\"Fit to test set\")\n",
    "\n",
    "plt.ylabel('Squared residuals (log scale)')\n",
    "plt.xlabel('Polynomial degree')\n",
    "plt.xticks(np.arange(4, 133, step=16))\n",
    "plt.show()"
   ]
  },
  {
   "cell_type": "markdown",
   "id": "1b78ad4d",
   "metadata": {},
   "source": [
    "Obtenemos el mejor resultado segun los datos de entrenamiento (prueba) y vemos el valor"
   ]
  },
  {
   "cell_type": "code",
   "execution_count": 170,
   "id": "06f7ce6a",
   "metadata": {},
   "outputs": [
    {
     "data": {
      "text/plain": [
       "(array([132]),)"
      ]
     },
     "execution_count": 170,
     "metadata": {},
     "output_type": "execute_result"
    }
   ],
   "source": [
    "np.where(residuos[:,0]==np.min(residuos[:,0]))\n",
    "#np.where(residuos[:,1]==np.min(residuos[:,1]))"
   ]
  },
  {
   "cell_type": "code",
   "execution_count": 71,
   "id": "f433f420",
   "metadata": {},
   "outputs": [
    {
     "data": {
      "text/plain": [
       "0.5267176892424074"
      ]
     },
     "execution_count": 71,
     "metadata": {},
     "output_type": "execute_result"
    }
   ],
   "source": [
    "np.min(residuos[:,0])\n",
    "#np.min(residuos[:,1])"
   ]
  },
  {
   "cell_type": "code",
   "execution_count": 93,
   "id": "0e6c35f3",
   "metadata": {},
   "outputs": [
    {
     "data": {
      "text/plain": [
       "-5.635068026499379e-05"
      ]
     },
     "execution_count": 93,
     "metadata": {},
     "output_type": "execute_result"
    }
   ],
   "source": [
    "#justificacion de comentario en la respuesta del examen que no hay diferencia en el\n",
    "#ajuste entre polinimio de 132 y 133\n",
    "residuos[132,0]-residuos[133,0]"
   ]
  },
  {
   "cell_type": "markdown",
   "id": "b0d965ac",
   "metadata": {},
   "source": [
    "Ahora responderemos lo relativo a la medida AICc\n",
    "\n",
    "$$\n",
    "A I C c=n \\log \\left(\\frac{R S S}{n}\\right)+\\frac{2 m n}{n-m-1}\n",
    "$$\n",
    "\n",
    "siendo $n$ el número de datos y $m$ el grado del polinomio más uno."
   ]
  },
  {
   "cell_type": "code",
   "execution_count": 155,
   "id": "9e45012b",
   "metadata": {},
   "outputs": [],
   "source": [
    "def calcular_ajuste_AIC_del_grado(k):\n",
    "    N = len(X_training)\n",
    "    M = k+1\n",
    "    model = poly.Polynomial(poly.polyfit(X_training, Y_training, k))\n",
    "    residuo_cuadratico = np.sum((Y_test-model(X_test))**2)\n",
    "    AICc = N*np.log10(residuo_cuadratico/N)+ 2*N*M/(N-M-1)\n",
    "    return AICc"
   ]
  },
  {
   "cell_type": "code",
   "execution_count": 156,
   "id": "410cceb2",
   "metadata": {},
   "outputs": [
    {
     "name": "stderr",
     "output_type": "stream",
     "text": [
      "/Users/muon02/opt/anaconda3/lib/python3.8/site-packages/numpy/polynomial/polynomial.py:1361: RankWarning: The fit may be poorly conditioned\n",
      "  return pu._fit(polyvander, x, y, deg, rcond, full, w)\n"
     ]
    }
   ],
   "source": [
    "grados_AIC = np.arange(0,132,1)\n",
    "residuos_AIC = np.array([calcular_ajuste_AIC_del_grado(k) for k in grados_AIC])"
   ]
  },
  {
   "cell_type": "code",
   "execution_count": 162,
   "id": "86297ce0",
   "metadata": {},
   "outputs": [
    {
     "data": {
      "image/png": "[encoded data removed]",
      "text/plain": [
       "<Figure size 432x288 with 1 Axes>"
      ]
     },
     "metadata": {
      "needs_background": "light"
     },
     "output_type": "display_data"
    }
   ],
   "source": [
    "plt.plot(grados_AIC[:],residuos_AIC[:])\n",
    "plt.title(\"Fit to test set\")\n",
    "plt.ylabel('AICc')\n",
    "plt.xlabel('Polynomial degree')\n",
    "plt.show()"
   ]
  },
  {
   "cell_type": "code",
   "execution_count": 158,
   "id": "def409e6",
   "metadata": {},
   "outputs": [
    {
     "data": {
      "text/plain": [
       "(array([6]),)"
      ]
     },
     "execution_count": 158,
     "metadata": {},
     "output_type": "execute_result"
    }
   ],
   "source": [
    "np.where(residuos_AIC==np.min(residuos_AIC))"
   ]
  },
  {
   "cell_type": "code",
   "execution_count": 159,
   "id": "9da7bedd",
   "metadata": {},
   "outputs": [
    {
     "data": {
      "text/plain": [
       "-307.45171496783865"
      ]
     },
     "execution_count": 159,
     "metadata": {},
     "output_type": "execute_result"
    }
   ],
   "source": [
    "np.min(residuos_AIC)"
   ]
  },
  {
   "cell_type": "markdown",
   "id": "a4fd4add",
   "metadata": {},
   "source": [
    "Hacemos comparativos de que polinomios se ven mejor sobre el conjunto de prueba"
   ]
  },
  {
   "cell_type": "code",
   "execution_count": 168,
   "id": "1bf6cbe8",
   "metadata": {},
   "outputs": [
    {
     "name": "stderr",
     "output_type": "stream",
     "text": [
      "/Users/muon02/opt/anaconda3/lib/python3.8/site-packages/numpy/polynomial/polynomial.py:1361: RankWarning: The fit may be poorly conditioned\n",
      "  return pu._fit(polyvander, x, y, deg, rcond, full, w)\n"
     ]
    },
    {
     "data": {
      "image/png": "[encoded data removed]",
      "text/plain": [
       "<Figure size 432x288 with 1 Axes>"
      ]
     },
     "metadata": {
      "needs_background": "light"
     },
     "output_type": "display_data"
    }
   ],
   "source": [
    "poly1 = poly.Polynomial(poly.polyfit(X_training, Y_training, 132))\n",
    "poly2 = poly.Polynomial(poly.polyfit(X_training, Y_training, 4))\n",
    "poly3 = poly.Polynomial(poly.polyfit(X_training, Y_training, 6))\n",
    "\n",
    "\n",
    "plt.plot(X_test,poly1(X_test),'r.-', label=r'$k=132$')\n",
    "plt.plot(X_test,poly2(X_test),'g.--', label=r'$k=4$')\n",
    "plt.plot(X_test,poly3(X_test),'b.--', label=r'$k=6$')\n",
    "plt.plot(X_test,Y_test,'o',color='black')\n",
    "plt.legend(loc='best')\n",
    "plt.title('Test data and polynomials fitted')\n",
    "plt.show()\n",
    "\n"
   ]
  },
  {
   "cell_type": "code",
   "execution_count": null,
   "id": "f3a3574a",
   "metadata": {},
   "outputs": [],
   "source": []
  }
 ],
 "metadata": {
  "kernelspec": {
   "display_name": "Python 3",
   "language": "python",
   "name": "python3"
  },
  "language_info": {
   "codemirror_mode": {
    "name": "ipython",
    "version": 3
   },
   "file_extension": ".py",
   "mimetype": "text/x-python",
   "name": "python",
   "nbconvert_exporter": "python",
   "pygments_lexer": "ipython3",
   "version": "3.8.10"
  },
  "varInspector": {
   "cols": {
    "lenName": 16,
    "lenType": 16,
    "lenVar": 40
   },
   "kernels_config": {
    "python": {
     "delete_cmd_postfix": "",
     "delete_cmd_prefix": "del ",
     "library": "var_list.py",
     "varRefreshCmd": "print(var_dic_list())"
    },
    "r": {
     "delete_cmd_postfix": ") ",
     "delete_cmd_prefix": "rm(",
     "library": "var_list.r",
     "varRefreshCmd": "cat(var_dic_list()) "
    }
   },
   "types_to_exclude": [
    "module",
    "function",
    "builtin_function_or_method",
    "instance",
    "_Feature"
   ],
   "window_display": false
  }
 },
 "nbformat": 4,
 "nbformat_minor": 5
}
